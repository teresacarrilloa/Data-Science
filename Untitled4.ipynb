{
  "nbformat": 4,
  "nbformat_minor": 0,
  "metadata": {
    "colab": {
      "name": "Untitled4.ipynb",
      "provenance": [],
      "mount_file_id": "1jRJaumGRm1rPiKHPi1AwFYc5fn5Ravfg",
      "authorship_tag": "ABX9TyNg8Fgom7uple1Bzr00yuV7",
      "include_colab_link": true
    },
    "kernelspec": {
      "name": "python3",
      "display_name": "Python 3"
    }
  },
  "cells": [
    {
      "cell_type": "markdown",
      "metadata": {
        "id": "view-in-github",
        "colab_type": "text"
      },
      "source": [
        "<a href=\"https://colab.research.google.com/github/teresacarrilloa/Data-Science/blob/main/Untitled4.ipynb\" target=\"_parent\"><img src=\"https://colab.research.google.com/assets/colab-badge.svg\" alt=\"Open In Colab\"/></a>"
      ]
    },
    {
      "cell_type": "markdown",
      "metadata": {
        "id": "K7FC0hY7Gx5j"
      },
      "source": [
        "#Notas Sesion 01\r\n",
        "\r\n",
        "\r\n"
      ]
    }
  ]
}